{
 "cells": [
  {
   "cell_type": "code",
   "execution_count": 1,
   "id": "5f3a604a",
   "metadata": {},
   "outputs": [],
   "source": [
    "import tweepy\n",
    "import json\n",
    "import sys\n",
    "from kafka import KafkaProducer\n",
    "from configparser import ConfigParser"
   ]
  },
  {
   "cell_type": "code",
   "execution_count": 1,
   "id": "52d52e60",
   "metadata": {},
   "outputs": [
    {
     "ename": "NameError",
     "evalue": "name 'config' is not defined",
     "output_type": "error",
     "traceback": [
      "\u001b[1;31m---------------------------------------------------------------------------\u001b[0m",
      "\u001b[1;31mNameError\u001b[0m                                 Traceback (most recent call last)",
      "\u001b[1;32m~\\AppData\\Local\\Temp/ipykernel_10288/4230598953.py\u001b[0m in \u001b[0;36m<module>\u001b[1;34m\u001b[0m\n\u001b[1;32m----> 1\u001b[1;33m \u001b[0mconsumer_key\u001b[0m \u001b[1;33m=\u001b[0m \u001b[0mconfig\u001b[0m\u001b[1;33m[\u001b[0m\u001b[1;34m'API_details'\u001b[0m\u001b[1;33m]\u001b[0m\u001b[1;33m[\u001b[0m\u001b[1;34m'consumer_key'\u001b[0m\u001b[1;33m]\u001b[0m\u001b[1;33m\u001b[0m\u001b[1;33m\u001b[0m\u001b[0m\n\u001b[0m\u001b[0;32m      2\u001b[0m \u001b[0mconsumer_secret\u001b[0m \u001b[1;33m=\u001b[0m \u001b[0mconfig\u001b[0m\u001b[1;33m[\u001b[0m\u001b[1;34m'API_details'\u001b[0m\u001b[1;33m]\u001b[0m\u001b[1;33m[\u001b[0m\u001b[1;34m'consumer_secret'\u001b[0m\u001b[1;33m]\u001b[0m\u001b[1;33m\u001b[0m\u001b[1;33m\u001b[0m\u001b[0m\n\u001b[0;32m      3\u001b[0m \u001b[0maccess_token\u001b[0m \u001b[1;33m=\u001b[0m \u001b[0mconfig\u001b[0m\u001b[1;33m[\u001b[0m\u001b[1;34m'API_details'\u001b[0m\u001b[1;33m]\u001b[0m\u001b[1;33m[\u001b[0m\u001b[1;34m'access_token'\u001b[0m\u001b[1;33m]\u001b[0m\u001b[1;33m\u001b[0m\u001b[1;33m\u001b[0m\u001b[0m\n\u001b[0;32m      4\u001b[0m \u001b[0maccess_secret\u001b[0m \u001b[1;33m=\u001b[0m \u001b[0mconfig\u001b[0m\u001b[1;33m[\u001b[0m\u001b[1;34m'API_details'\u001b[0m\u001b[1;33m]\u001b[0m\u001b[1;33m[\u001b[0m\u001b[1;34m'access_secret'\u001b[0m\u001b[1;33m]\u001b[0m\u001b[1;33m\u001b[0m\u001b[1;33m\u001b[0m\u001b[0m\n",
      "\u001b[1;31mNameError\u001b[0m: name 'config' is not defined"
     ]
    }
   ],
   "source": [
    "consumer_key = config['API_details']['consumer_key']\n",
    "consumer_secret = config['API_details']['consumer_secret']\n",
    "access_token = config['API_details']['access_token']\n",
    "access_secret = config['API_details']['access_secret']"
   ]
  },
  {
   "cell_type": "code",
   "execution_count": 3,
   "id": "4e92e5b7",
   "metadata": {},
   "outputs": [],
   "source": [
    "class Listener(tweepy.Stream):\n",
    "\n",
    "    def __init__(self, kafka_producer, topic_name):\n",
    "        self.producer = kafka_producer\n",
    "        self.topic_name = topic_name\n",
    "        self.count = 0\n",
    "\n",
    "    def on_data(self, raw_data):\n",
    "        self.process_data(raw_data)\n",
    "\n",
    "    def process_data(self, raw_data):\n",
    "        data = json.loads(raw_data)\n",
    "        text = data[\"text\"]\n",
    "        if \"extended_tweet\" in data:\n",
    "            text = data[\"extended_tweet\"][\"full_text\"]\n",
    "        if '#' in text:\n",
    "            self.producer.send(self.topic_name, value={\"text\": text})\n",
    "            self.count += 1\n",
    "            if self.count % 100 == 0:\n",
    "                print(\"Number of tweets sent = \", self.count)\n",
    "\n",
    "    def on_error(self, status_code):\n",
    "        if status_code == 420:\n",
    "            # returning False in on_error disconnects the stream\n",
    "            return False"
   ]
  },
  {
   "cell_type": "code",
   "execution_count": 4,
   "id": "647b4b4c",
   "metadata": {},
   "outputs": [],
   "source": [
    "class StreamTweets():\n",
    "\n",
    "    def __init__(self, auth, listener):\n",
    "        self.stream = tweepy.Stream(auth, listener)\n",
    "\n",
    "    def start(self, location, language, track_keywords):\n",
    "        self.stream.filter(languages=language,\n",
    "                           track=track_keywords, locations=location)"
   ]
  },
  {
   "cell_type": "code",
   "execution_count": 5,
   "id": "4df36f2a",
   "metadata": {},
   "outputs": [],
   "source": [
    "config = ConfigParser()\n",
    "config.read(\"..\\conf\\hashtags.conf\")\n",
    "\n",
    "bootstap_server = config['Kafka_param']['bootstrap.servers']"
   ]
  },
  {
   "cell_type": "code",
   "execution_count": 6,
   "id": "4db2bf86",
   "metadata": {},
   "outputs": [],
   "source": [
    "producer = KafkaProducer(bootstrap_servers=[bootstap_server],\n",
    "                             value_serializer=lambda v: json.dumps(v).encode('utf-8'))\n",
    "\n",
    "listener = Listener(producer, config['Resources']['app_topic_name'])\n"
   ]
  },
  {
   "cell_type": "code",
   "execution_count": 7,
   "id": "2330fbb0",
   "metadata": {},
   "outputs": [],
   "source": [
    "consumer_key = config['API_details']['consumer_key']\n",
    "consumer_secret = config['API_details']['consumer_secret']\n",
    "access_token = config['API_details']['access_token']\n",
    "access_secret = config['API_details']['access_secret']"
   ]
  },
  {
   "cell_type": "code",
   "execution_count": 9,
   "id": "12005826",
   "metadata": {},
   "outputs": [],
   "source": [
    "auth = tweepy.OAuthHandler(consumer_key, consumer_secret)\n",
    "auth.set_access_token(access_token, access_secret)\n",
    "\n",
    "#stream = StreamTweets(auth, listener)"
   ]
  },
  {
   "cell_type": "code",
   "execution_count": 12,
   "id": "93fe684e",
   "metadata": {},
   "outputs": [
    {
     "ename": "TypeError",
     "evalue": "__init__() takes 3 positional arguments but 7 were given",
     "output_type": "error",
     "traceback": [
      "\u001b[1;31m---------------------------------------------------------------------------\u001b[0m",
      "\u001b[1;31mTypeError\u001b[0m                                 Traceback (most recent call last)",
      "\u001b[1;32m~\\AppData\\Local\\Temp/ipykernel_7648/360977325.py\u001b[0m in \u001b[0;36m<module>\u001b[1;34m\u001b[0m\n\u001b[1;32m----> 1\u001b[1;33m stream = StreamTweets('consumer_key',\n\u001b[0m\u001b[0;32m      2\u001b[0m                           \u001b[1;34m'consumer_secret'\u001b[0m\u001b[1;33m,\u001b[0m\u001b[1;33m\u001b[0m\u001b[1;33m\u001b[0m\u001b[0m\n\u001b[0;32m      3\u001b[0m                           \u001b[1;34m'access_token'\u001b[0m\u001b[1;33m,\u001b[0m\u001b[1;33m\u001b[0m\u001b[1;33m\u001b[0m\u001b[0m\n\u001b[0;32m      4\u001b[0m                           'access_token_secret',auth, listener)\n",
      "\u001b[1;31mTypeError\u001b[0m: __init__() takes 3 positional arguments but 7 were given"
     ]
    }
   ],
   "source": [
    "stream = StreamTweets('consumer_key',\n",
    "                          'consumer_secret',\n",
    "                          'access_token',\n",
    "                          'access_token_secret',auth, listener)"
   ]
  },
  {
   "cell_type": "code",
   "execution_count": null,
   "id": "7da23cdb",
   "metadata": {},
   "outputs": [],
   "source": [
    "config = ConfigParser()\n",
    "    config.read(\"..\\conf\\hashtags.conf\")\n",
    "\n",
    "    bootstap_server = config['Kafka_param']['bootstrap.servers']\n",
    "\n",
    "    # bootstrap_servers=[‘localhost:9092’] : sets the host and port the producer\n",
    "    # should contact to bootstrap initial cluster metadata. It is not necessary to set this here,\n",
    "    # since the default is localhost:9092.\n",
    "    #\n",
    "    # value_serializer=lambda x: dumps(x).encode(‘utf-8’): function of how the data\n",
    "    # should be serialized before sending to the broker. Here, we convert the data to\n",
    "    # a json file and encode it to utf-8.\n",
    "    producer = KafkaProducer(bootstrap_servers=[bootstap_server],\n",
    "                             value_serializer=lambda v: json.dumps(v).encode('utf-8'))\n",
    "\n",
    "    listener = Listener(producer, config['Resources']['app_topic_name'])\n",
    "\n",
    "    consumer_key = config['API_details']['consumer_key']\n",
    "    consumer_secret = config['API_details']['consumer_secret']\n",
    "    access_token = config['API_details']['access_token']\n",
    "    access_secret = config['API_details']['access_secret']\n",
    "\n",
    "    auth = tweepy.OAuthHandler(consumer_key, consumer_secret)\n",
    "    auth.set_access_token(access_token, access_secret)\n",
    "\n",
    "    stream = StreamTweets(auth, listener)\n",
    "\n",
    "    # Converting string to float to get cordinates\n",
    "    location = [float(x) for x in config['API_param']['location'].split(',')]\n",
    "    language = config['API_param']['language'].split(' ')\n",
    "    track_keywords = config['API_param']['track_keywords'].split(' ')\n",
    "    stream.start(location, language, track_keywords)\n"
   ]
  }
 ],
 "metadata": {
  "kernelspec": {
   "display_name": "Python 3 (ipykernel)",
   "language": "python",
   "name": "python3"
  },
  "language_info": {
   "codemirror_mode": {
    "name": "ipython",
    "version": 3
   },
   "file_extension": ".py",
   "mimetype": "text/x-python",
   "name": "python",
   "nbconvert_exporter": "python",
   "pygments_lexer": "ipython3",
   "version": "3.9.7"
  }
 },
 "nbformat": 4,
 "nbformat_minor": 5
}
