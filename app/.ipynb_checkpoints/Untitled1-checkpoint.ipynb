{
 "cells": [
  {
   "cell_type": "code",
   "execution_count": 1,
   "id": "1c9e478e",
   "metadata": {},
   "outputs": [],
   "source": [
    "import tweepy\n",
    "import json\n",
    "import sys\n",
    "from kafka import KafkaProducer\n",
    "from configparser import ConfigParser"
   ]
  },
  {
   "cell_type": "code",
   "execution_count": 8,
   "id": "9877e422",
   "metadata": {},
   "outputs": [
    {
     "name": "stdout",
     "output_type": "stream",
     "text": [
      "Collecting confluent_kafka\n",
      "  Downloading confluent_kafka-1.9.2-cp39-cp39-win_amd64.whl (3.0 MB)\n",
      "Installing collected packages: confluent-kafka\n",
      "Successfully installed confluent-kafka-1.9.2\n"
     ]
    }
   ],
   "source": [
    "!pip install confluent_kafka"
   ]
  },
  {
   "cell_type": "code",
   "execution_count": 10,
   "id": "11a238ae",
   "metadata": {},
   "outputs": [],
   "source": [
    "import configparser, argparse, logging, socket, tweepy, socket, sys\n",
    "#from confluent_kafka import Producer\n",
    "from tweepy.streaming import Stream"
   ]
  },
  {
   "cell_type": "code",
   "execution_count": 3,
   "id": "02db10f4",
   "metadata": {},
   "outputs": [
    {
     "data": {
      "text/plain": [
       "['..\\\\conf\\\\hashtags.conf']"
      ]
     },
     "execution_count": 3,
     "metadata": {},
     "output_type": "execute_result"
    }
   ],
   "source": [
    "config = ConfigParser()\n",
    "config.read(\"..\\conf\\hashtags.conf\")"
   ]
  },
  {
   "cell_type": "code",
   "execution_count": 16,
   "id": "380821f9",
   "metadata": {},
   "outputs": [],
   "source": [
    "consumer_key = config['API_details']['consumer_key']\n",
    "consumer_secret = config['API_details']['consumer_secret']\n",
    "access_token = config['API_details']['access_token']\n",
    "access_secret = config['API_details']['access_secret']\n",
    "topic = config['Resources']['app_topic_name']"
   ]
  },
  {
   "cell_type": "code",
   "execution_count": 17,
   "id": "555224b6",
   "metadata": {},
   "outputs": [],
   "source": [
    "bootstap_server = config['Kafka_param']['bootstrap.servers']\n",
    "producer = KafkaProducer(bootstrap_servers=[bootstap_server],\n",
    "                             value_serializer=lambda v: json.dumps(v).encode('utf-8'))"
   ]
  },
  {
   "cell_type": "code",
   "execution_count": 18,
   "id": "c4aa274c",
   "metadata": {},
   "outputs": [],
   "source": [
    "location = [float(x) for x in config['API_param']['location'].split(',')]\n",
    "language = config['API_param']['language'].split(' ')\n",
    "track_keywords = config['API_param']['track_keywords'].split(' ')"
   ]
  },
  {
   "cell_type": "code",
   "execution_count": 21,
   "id": "c5f9c07c",
   "metadata": {},
   "outputs": [],
   "source": [
    "class TwitterStreamListener(tweepy.Stream):\n",
    "\n",
    "    _kafka_producer = None\n",
    "    _topic = None\n",
    "    \n",
    "    def connect_to_kafka(self):\n",
    "               \n",
    "        self._kafka_producer = producer\n",
    "        self._topic = topic\n",
    "        \n",
    "    def on_data(self, data):\n",
    "        if self._kafka_producer!=None:\n",
    "            self._kafka_producer.produce(self._topic, value=data)\n",
    "            self._kafka_producer.flush()\n",
    "            logging.debug(f\"tweet: {data}\")\n",
    "        else:\n",
    "            print(data)\n",
    "            self.process_data(data)\n",
    "            \n",
    "    def process_data(self, raw_data):\n",
    "        data = json.loads(raw_data)\n",
    "        text = data[\"text\"]\n",
    "        if \"extended_tweet\" in data:\n",
    "            text = data[\"extended_tweet\"][\"full_text\"]\n",
    "        if '#' in text:\n",
    "            self._kafka_producer.send(self._topic, value={\"text\": text})\n",
    "            self.count += 1\n",
    "            if self.count % 100 == 0:\n",
    "                print(\"Number of tweets sent = \", self.count)\n",
    "\n",
    "    def on_error(self, status):\n",
    "        logging.error(status)\n",
    "        sys.exit(-1)"
   ]
  },
  {
   "cell_type": "code",
   "execution_count": 22,
   "id": "572a3663",
   "metadata": {},
   "outputs": [],
   "source": [
    "twitter_conn = TwitterStreamListener(consumer_key, consumer_secret,\n",
    "                                         access_token, access_secret)"
   ]
  },
  {
   "cell_type": "code",
   "execution_count": 23,
   "id": "8c521546",
   "metadata": {},
   "outputs": [],
   "source": [
    "twitter_conn.connect_to_kafka()"
   ]
  },
  {
   "cell_type": "code",
   "execution_count": null,
   "id": "40355750",
   "metadata": {},
   "outputs": [],
   "source": [
    "twitter_conn.filter(track=track_keywords)"
   ]
  },
  {
   "cell_type": "code",
   "execution_count": null,
   "id": "b4f1e8fd",
   "metadata": {},
   "outputs": [],
   "source": [
    "twitter_conn.filter(track=track_keywords)"
   ]
  }
 ],
 "metadata": {
  "kernelspec": {
   "display_name": "Python 3 (ipykernel)",
   "language": "python",
   "name": "python3"
  },
  "language_info": {
   "codemirror_mode": {
    "name": "ipython",
    "version": 3
   },
   "file_extension": ".py",
   "mimetype": "text/x-python",
   "name": "python",
   "nbconvert_exporter": "python",
   "pygments_lexer": "ipython3",
   "version": "3.9.7"
  }
 },
 "nbformat": 4,
 "nbformat_minor": 5
}
