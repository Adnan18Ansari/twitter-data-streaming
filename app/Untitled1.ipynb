{
 "cells": [
  {
   "cell_type": "code",
   "execution_count": 1,
   "id": "05fe3d0d",
   "metadata": {},
   "outputs": [],
   "source": [
    "import tweepy\n",
    "import json\n",
    "import sys\n",
    "from kafka import KafkaProducer\n",
    "from configparser import ConfigParser"
   ]
  },
  {
   "cell_type": "code",
   "execution_count": 2,
   "id": "43f6eeaa",
   "metadata": {},
   "outputs": [],
   "source": [
    "import configparser, argparse, logging, socket, tweepy, socket, sys\n",
    "#from confluent_kafka import Producer\n",
    "from tweepy.streaming import Stream"
   ]
  },
  {
   "cell_type": "code",
   "execution_count": 9,
   "id": "d31ce5e8",
   "metadata": {},
   "outputs": [
    {
     "name": "stdout",
     "output_type": "stream",
     "text": [
      "4.12.1\n"
     ]
    }
   ],
   "source": [
    "print(tweepy.__version__)"
   ]
  },
  {
   "cell_type": "code",
   "execution_count": 3,
   "id": "0391bdb5",
   "metadata": {},
   "outputs": [
    {
     "data": {
      "text/plain": [
       "['..\\\\conf\\\\hashtags.conf']"
      ]
     },
     "execution_count": 3,
     "metadata": {},
     "output_type": "execute_result"
    }
   ],
   "source": [
    "config = ConfigParser()\n",
    "config.read(\"..\\conf\\hashtags.conf\")"
   ]
  },
  {
   "cell_type": "code",
   "execution_count": 4,
   "id": "cfd5cf2b",
   "metadata": {},
   "outputs": [],
   "source": [
    "consumer_key = config['API_details']['consumer_key']\n",
    "consumer_secret = config['API_details']['consumer_secret']\n",
    "access_token = config['API_details']['access_token']\n",
    "access_secret = config['API_details']['access_secret']\n",
    "topic = config['Resources']['app_topic_name']"
   ]
  },
  {
   "cell_type": "code",
   "execution_count": 10,
   "id": "2d0b4024",
   "metadata": {},
   "outputs": [],
   "source": [
    "#bootstap_server = config['Kafka_param']['bootstrap.servers']\n",
    "producer = KafkaProducer(bootstrap_servers=[bootstap_server], api_version=(4,12,1),\n",
    "                             value_serializer=lambda v: json.dumps(v).encode('utf-8'))"
   ]
  },
  {
   "cell_type": "code",
   "execution_count": 6,
   "id": "655baab7",
   "metadata": {},
   "outputs": [],
   "source": [
    "location = [float(x) for x in config['API_param']['location'].split(',')]\n",
    "language = config['API_param']['language'].split(' ')\n",
    "track_keywords = config['API_param']['track_keywords'].split(' ')"
   ]
  },
  {
   "cell_type": "code",
   "execution_count": 11,
   "id": "8ff20a7a",
   "metadata": {},
   "outputs": [],
   "source": [
    "class TwitterStreamListener(tweepy.Stream):\n",
    "\n",
    "    _kafka_producer = None\n",
    "    _topic = None\n",
    "    \n",
    "    def connect_to_kafka(self):\n",
    "               \n",
    "        self._kafka_producer = producer\n",
    "        self._topic = topic\n",
    "        \n",
    "    def on_data(self, data):\n",
    "        if self._kafka_producer!=None:\n",
    "            self._kafka_producer.produce(self._topic, value=data)\n",
    "            self._kafka_producer.flush()\n",
    "            logging.debug(f\"tweet: {data}\")\n",
    "        else:\n",
    "            print(data)\n",
    "            self.process_data(data)\n",
    "            \n",
    "    def process_data(self, raw_data):\n",
    "        data = json.loads(raw_data)\n",
    "        text = data[\"text\"]\n",
    "        if \"extended_tweet\" in data:\n",
    "            text = data[\"extended_tweet\"][\"full_text\"]\n",
    "        if '#' in text:\n",
    "            self._kafka_producer.send(self._topic, value={\"text\": text})\n",
    "            self.count += 1\n",
    "            if self.count % 100 == 0:\n",
    "                print(\"Number of tweets sent = \", self.count)\n",
    "\n",
    "    def on_error(self, status):\n",
    "        logging.error(status)\n",
    "        sys.exit(-1)"
   ]
  },
  {
   "cell_type": "code",
   "execution_count": 12,
   "id": "74e87881",
   "metadata": {},
   "outputs": [],
   "source": [
    "twitter_conn = TwitterStreamListener(consumer_key, consumer_secret,\n",
    "                                         access_token, access_secret)"
   ]
  },
  {
   "cell_type": "code",
   "execution_count": 13,
   "id": "bb4e2a2d",
   "metadata": {},
   "outputs": [],
   "source": [
    "twitter_conn.connect_to_kafka()"
   ]
  },
  {
   "cell_type": "code",
   "execution_count": null,
   "id": "a345d874",
   "metadata": {},
   "outputs": [
    {
     "name": "stderr",
     "output_type": "stream",
     "text": [
      "Stream encountered HTTP error: 410\n",
      "HTTP error response text: \n",
      "Stream encountered HTTP error: 410\n",
      "HTTP error response text: \n",
      "Stream encountered HTTP error: 410\n",
      "HTTP error response text: \n",
      "Stream encountered HTTP error: 410\n",
      "HTTP error response text: \n",
      "Stream encountered HTTP error: 410\n",
      "HTTP error response text: \n",
      "Stream encountered HTTP error: 410\n",
      "HTTP error response text: \n",
      "Stream encountered HTTP error: 410\n",
      "HTTP error response text: \n",
      "Stream encountered HTTP error: 410\n",
      "HTTP error response text: \n",
      "Stream encountered HTTP error: 410\n",
      "HTTP error response text: \n",
      "Stream encountered HTTP error: 410\n",
      "HTTP error response text: \n",
      "Stream encountered HTTP error: 410\n",
      "HTTP error response text: \n",
      "Stream encountered HTTP error: 410\n",
      "HTTP error response text: \n",
      "Stream encountered HTTP error: 410\n",
      "HTTP error response text: \n",
      "Stream encountered HTTP error: 410\n",
      "HTTP error response text: \n",
      "Stream encountered HTTP error: 410\n",
      "HTTP error response text: \n",
      "Stream encountered HTTP error: 410\n",
      "HTTP error response text: \n",
      "Stream encountered HTTP error: 410\n",
      "HTTP error response text: \n",
      "Stream encountered HTTP error: 410\n",
      "HTTP error response text: \n",
      "Stream encountered HTTP error: 410\n",
      "HTTP error response text: \n",
      "Stream encountered HTTP error: 410\n",
      "HTTP error response text: \n",
      "Stream encountered HTTP error: 410\n",
      "HTTP error response text: \n"
     ]
    }
   ],
   "source": []
  },
  {
   "cell_type": "code",
   "execution_count": null,
   "id": "c4c6e7ec",
   "metadata": {},
   "outputs": [],
   "source": [
    "twitter_conn.filter(track=track_keywords)"
   ]
  },
  {
   "cell_type": "code",
   "execution_count": null,
   "id": "01e64b19",
   "metadata": {},
   "outputs": [],
   "source": [
    "twitter_conn.filter(track=track_keywords)"
   ]
  }
 ],
 "metadata": {
  "kernelspec": {
   "display_name": "Python 3 (ipykernel)",
   "language": "python",
   "name": "python3"
  },
  "language_info": {
   "codemirror_mode": {
    "name": "ipython",
    "version": 3
   },
   "file_extension": ".py",
   "mimetype": "text/x-python",
   "name": "python",
   "nbconvert_exporter": "python",
   "pygments_lexer": "ipython3",
   "version": "3.9.7"
  }
 },
 "nbformat": 4,
 "nbformat_minor": 5
}
