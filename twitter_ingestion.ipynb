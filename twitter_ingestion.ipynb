{
 "cells": [
  {
   "cell_type": "code",
   "execution_count": null,
   "id": "e0c2f2be",
   "metadata": {},
   "outputs": [],
   "source": [
    "import tweepy\n",
    "import json\n",
    "import sys\n",
    "from kafka import KafkaProducer\n",
    "from configparser import ConfigParser"
   ]
  },
  {
   "cell_type": "code",
   "execution_count": null,
   "id": "ff31f69e",
   "metadata": {},
   "outputs": [],
   "source": [
    "import configparser, argparse, logging, socket, tweepy, socket, sys\n",
    "from tweepy.streaming import Stream"
   ]
  },
  {
   "cell_type": "code",
   "execution_count": null,
   "id": "fd19c391",
   "metadata": {},
   "outputs": [],
   "source": [
    "config = ConfigParser()\n",
    "config.read(\"..\\conf\\hashtags.conf\")"
   ]
  },
  {
   "cell_type": "code",
   "execution_count": null,
   "id": "e5902325",
   "metadata": {},
   "outputs": [],
   "source": [
    "consumer_key = config['API_details']['consumer_key']\n",
    "consumer_secret = config['API_details']['consumer_secret']\n",
    "access_token = config['API_details']['access_token']\n",
    "access_secret = config['API_details']['access_secret']\n",
    "topic = \"twitter\"\n",
    "bootstap_server = config['Kafka_param']['bootstrap.servers']"
   ]
  },
  {
   "cell_type": "code",
   "execution_count": null,
   "id": "780e015b",
   "metadata": {},
   "outputs": [],
   "source": [
    "auth = tweepy.OAuth1UserHandler(\n",
    "   consumer_key, consumer_secret, access_token, access_secret)\n",
    "\n",
    "api = tweepy.API(auth)\n",
    "\n",
    "public_tweets = api.home_timeline()\n",
    "\n",
    "for tweet in public_tweets:\n",
    "    print(tweet.text)\n",
    "    \n",
    "class IDPrinter(tweepy.Stream):\n",
    "    def on_status(self, status):\n",
    "        print(status.id)\n",
    "        \n",
    "printer = IDPrinter(\n",
    "    consumer_key, consumer_secret, access_token, access_secret)"
   ]
  },
  {
   "cell_type": "code",
   "execution_count": null,
   "id": "27e8f11c",
   "metadata": {},
   "outputs": [],
   "source": [
    "BEARER_TOKEN = \"********************************************************************\""
   ]
  },
  {
   "cell_type": "code",
   "execution_count": null,
   "id": "d51dfe93",
   "metadata": {},
   "outputs": [],
   "source": [
    "producer = KafkaProducer(bootstrap_servers=[bootstap_server], api_version=(4,12,1),\n",
    "                             value_serializer=lambda v: json.dumps(v).encode('utf-8'))"
   ]
  },
  {
   "cell_type": "code",
   "execution_count": null,
   "id": "39e6884b",
   "metadata": {},
   "outputs": [],
   "source": [
    "class IDPrinter(tweepy.StreamingClient):\n",
    "    \n",
    "    _kafka_producer = None\n",
    "    _topic = None\n",
    "    \n",
    "    def connect_to_kafka(self):\n",
    "        self._kafka_producer = producer\n",
    "        self._topic = topic\n",
    "\n",
    "    def on_data(self, data):\n",
    "        print(data)\n",
    "        \n",
    "    def on_tweet(self, tweet):\n",
    "        print(tweet)"
   ]
  },
  {
   "cell_type": "code",
   "execution_count": null,
   "id": "ba06f615",
   "metadata": {},
   "outputs": [],
   "source": [
    "printer = IDPrinter(BEARER_TOKEN)"
   ]
  },
  {
   "cell_type": "code",
   "execution_count": null,
   "id": "4a8f4f8c",
   "metadata": {},
   "outputs": [],
   "source": [
    "printer.connect_to_kafka()\n",
    "printer.add_rules(tweepy.StreamRule(\"FIFA\"))"
   ]
  },
  {
   "cell_type": "code",
   "execution_count": null,
   "id": "1dc2d32f",
   "metadata": {},
   "outputs": [],
   "source": [
    "printer.filter()"
   ]
  },
  {
   "cell_type": "code",
   "execution_count": null,
   "id": "b2154def",
   "metadata": {},
   "outputs": [],
   "source": []
  }
 ],
 "metadata": {
  "kernelspec": {
   "display_name": "Python 3 (ipykernel)",
   "language": "python",
   "name": "python3"
  },
  "language_info": {
   "codemirror_mode": {
    "name": "ipython",
    "version": 3
   },
   "file_extension": ".py",
   "mimetype": "text/x-python",
   "name": "python",
   "nbconvert_exporter": "python",
   "pygments_lexer": "ipython3",
   "version": "3.9.7"
  }
 },
 "nbformat": 4,
 "nbformat_minor": 5
}
