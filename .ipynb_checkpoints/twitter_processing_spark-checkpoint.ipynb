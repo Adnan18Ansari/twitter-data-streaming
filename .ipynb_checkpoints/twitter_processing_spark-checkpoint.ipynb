{
 "cells": [
  {
   "cell_type": "code",
   "execution_count": null,
   "id": "5302522e",
   "metadata": {},
   "outputs": [],
   "source": [
    "import findspark\n",
    "findspark.init()"
   ]
  },
  {
   "cell_type": "code",
   "execution_count": null,
   "id": "8dd1ed2e",
   "metadata": {},
   "outputs": [],
   "source": [
    "from pyspark.context import SparkContext\n",
    "from pyspark.sql import SparkSession\n",
    "from pyspark.streaming import StreamingContext\n",
    "from pyspark import SparkContext\n",
    "from pyspark.sql.types import StructType,StructField, StringType, IntegerType\n",
    "from pyspark.sql.functions import from_json, col, explode, split\n"
   ]
  },
  {
   "cell_type": "code",
   "execution_count": null,
   "id": "fd4c1fc8",
   "metadata": {},
   "outputs": [],
   "source": [
    "import os\n",
    "os.environ['PYSPARK_SUBMIT_ARGS'] = '--packages org.apache.spark:spark-sql-kafka-0-10_2.12:3.3.1,org.apache.kafka:kafka-clients:3.3.1 pyspark-shell'"
   ]
  },
  {
   "cell_type": "code",
   "execution_count": null,
   "id": "325a4f85",
   "metadata": {},
   "outputs": [],
   "source": [
    "spark = SparkSession.builder.master(\"local\").appName(\"twitter\").getOrCreate()"
   ]
  },
  {
   "cell_type": "code",
   "execution_count": null,
   "id": "a17d293f",
   "metadata": {},
   "outputs": [],
   "source": [
    "dsraw = spark \\\n",
    "                   .readStream \\\n",
    "                   .format(\"kafka\") \\\n",
    "                   .option(\"kafka.bootstrap.servers\", \"localhost:9092\") \\\n",
    "                   .option(\"subscribe\", \"tweets\") \\\n",
    "                   .option(\"startingOffsets\", \"latest\") \\\n",
    "                   .load()\n",
    "dsraw"
   ]
  },
  {
   "cell_type": "code",
   "execution_count": null,
   "id": "0c9eeee9",
   "metadata": {},
   "outputs": [],
   "source": [
    "ds = dsraw.selectExpr(\"CAST(value AS STRING)\")\n",
    "print(type(dsraw))\n",
    "print(type(ds))"
   ]
  },
  {
   "cell_type": "code",
   "execution_count": null,
   "id": "51b1cb56",
   "metadata": {},
   "outputs": [],
   "source": [
    "rawQuery = dsraw \\\n",
    "        .writeStream \\\n",
    "        .queryName(\"qraw\")\\\n",
    "        .format(\"memory\")\\\n",
    "        .start()"
   ]
  },
  {
   "cell_type": "code",
   "execution_count": null,
   "id": "6d95df98",
   "metadata": {},
   "outputs": [],
   "source": [
    "alertQuery = ds \\\n",
    "        .writeStream \\\n",
    "        .queryName(\"qalerts\")\\\n",
    "        .format(\"memory\")\\\n",
    "        .start()"
   ]
  },
  {
   "cell_type": "code",
   "execution_count": null,
   "id": "cb5d12dc",
   "metadata": {},
   "outputs": [],
   "source": [
    "raw = spark.sql(\"select * from qraw\")\n",
    "raw.show()"
   ]
  },
  {
   "cell_type": "code",
   "execution_count": null,
   "id": "4cae219b",
   "metadata": {},
   "outputs": [],
   "source": [
    "# 1. Schema of a tweet coming from Twitter.\n",
    "\n",
    "tweet_schema=\"\"\"\n",
    "created_at string,\n",
    "id bigint,\n",
    "id_str string,\n",
    "text string,\n",
    "source string,\n",
    "truncated boolean,\n",
    "in_reply_to_status_id bigint,\n",
    "in_reply_to_status_id_str string,\n",
    "in_reply_to_user_id bigint,\n",
    "in_reply_to_user_id_str string,\n",
    "in_reply_to_screen_name string,\n",
    "`user` struct<\n",
    "            id:bigint,\n",
    "            id_str:string,\n",
    "            name:string,\n",
    "            screen_name:string,\n",
    "            location:string,\n",
    "            url:string,\n",
    "            description:string,\n",
    "            protected:boolean,\n",
    "            verified:boolean,\n",
    "            followers_count:bigint,\n",
    "            friends_count:bigint,\n",
    "            listed_count:bigint,\n",
    "            favourites_count:bigint,\n",
    "            statuses_count:bigint,\n",
    "            created_at:string,\n",
    "            profile_banner_url:string,\n",
    "            profile_image_url_https:string,\n",
    "            default_profile:boolean,\n",
    "            default_profile_image:boolean,\n",
    "            withheld_in_countries: array<string>,\n",
    "            withheld_scope:string,\n",
    "            geo_enabled:boolean\n",
    "            >,\n",
    "coordinates struct <\n",
    "            coordinates:array<float>,\n",
    "            type:string\n",
    "            >,\n",
    "place struct<\n",
    "            country:string,\n",
    "            country_code:string,\n",
    "            full_name:string,\n",
    "            place_type:string,\n",
    "            url:string\n",
    "            >,\n",
    "quoted_status_id bigint,\n",
    "quoted_status_id_str string,\n",
    "is_quote_status boolean,\n",
    "quote_count bigint,\n",
    "reply_count bigint,\n",
    "retweet_count bigint,\n",
    "favorite_count bigint,\n",
    "entities struct<\n",
    "            user_mentions:array<struct<screen_name:string>>,\n",
    "            hashtags:array<struct<text:string>>, \n",
    "            media:array<struct<expanded_url:string>>, \n",
    "            urls:array<struct<expanded_url:string>>, \n",
    "            symbols:array<struct<text:string>>\n",
    "            >,\n",
    "favorited boolean,\n",
    "retweeted boolean,\n",
    "possibly_sensitive boolean,\n",
    "filter_level string,\n",
    "lang string\n",
    "\"\"\""
   ]
  },
  {
   "cell_type": "code",
   "execution_count": null,
   "id": "3c047d51",
   "metadata": {},
   "outputs": [],
   "source": [
    "# 2. Cast the default data type of the field value (byte) to the String data type.\n",
    "# 3. Convert the String into a proper JSON document by using the from_json function.\n",
    "# 4. Flatten the JSON file and display event time, user name, text and the id.\n",
    "\n",
    "tweetsDF = dsraw.selectExpr(\"CAST(value AS STRING)\") \\\n",
    "                      .select(from_json(col(\"value\"), tweet_schema).alias(\"data\")) \\\n",
    "                      .select(col(\"data.created_at\").alias(\"event_time\"), \n",
    "                              col(\"data.user.screen_name\"),\n",
    "                              col(\"data.text\"),\n",
    "                              col(\"data.id\"))\n",
    "tweetsDF"
   ]
  },
  {
   "cell_type": "code",
   "execution_count": null,
   "id": "82c20449",
   "metadata": {},
   "outputs": [],
   "source": [
    "# 5. Display the results in the console.\n",
    "tweetsDF.writeStream \\\n",
    "        .format(\"console\") \\\n",
    "        .outputMode(\"append\") \\\n",
    "        .start() \\\n",
    "     #   .awaitTermination()\n"
   ]
  },
  {
   "cell_type": "code",
   "execution_count": null,
   "id": "5a8259cc",
   "metadata": {},
   "outputs": [],
   "source": [
    "# Create dataframe\n",
    "words = dsraw.select(explode(split(dsraw.value, \" \")).alias(\"word\"))\n",
    "\n",
    "# Create word counter\n",
    "wordCounts = words.groupBy(\"word\").count()\n",
    "\n",
    "# * Print results\n",
    "print(wordCounts.printSchema())"
   ]
  },
  {
   "cell_type": "code",
   "execution_count": null,
   "id": "d253897b",
   "metadata": {},
   "outputs": [],
   "source": []
  }
 ],
 "metadata": {
  "kernelspec": {
   "display_name": "Python 3 (ipykernel)",
   "language": "python",
   "name": "python3"
  },
  "language_info": {
   "codemirror_mode": {
    "name": "ipython",
    "version": 3
   },
   "file_extension": ".py",
   "mimetype": "text/x-python",
   "name": "python",
   "nbconvert_exporter": "python",
   "pygments_lexer": "ipython3",
   "version": "3.9.7"
  }
 },
 "nbformat": 4,
 "nbformat_minor": 5
}
